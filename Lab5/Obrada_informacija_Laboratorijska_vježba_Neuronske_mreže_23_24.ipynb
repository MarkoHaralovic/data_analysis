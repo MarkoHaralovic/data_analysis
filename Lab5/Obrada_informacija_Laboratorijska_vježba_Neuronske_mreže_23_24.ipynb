{
  "cells": [
    {
      "cell_type": "markdown",
      "metadata": {
        "id": "qJsxY4wL8mA5"
      },
      "source": [
        "# Laboratorijska vježba - Obrada informacija - Neuronske mreže"
      ]
    },
    {
      "cell_type": "code",
      "execution_count": 1,
      "metadata": {
        "colab": {
          "base_uri": "https://localhost:8080/"
        },
        "id": "c3HxBW4PFDi0",
        "outputId": "da60a535-85d5-45e4-8530-ca9d522bd9d5"
      },
      "outputs": [
        {
          "name": "stdout",
          "output_type": "stream",
          "text": [
            "Looking in indexes: https://download.pytorch.org/whl/cu118\n",
            "Requirement already satisfied: torch in c:\\python311\\lib\\site-packages (2.0.1)\n",
            "Requirement already satisfied: torchvision in c:\\python311\\lib\\site-packages (0.15.2)\n",
            "Requirement already satisfied: filelock in c:\\python311\\lib\\site-packages (from torch) (3.12.4)\n",
            "Requirement already satisfied: typing-extensions in c:\\python311\\lib\\site-packages (from torch) (4.7.1)\n",
            "Requirement already satisfied: sympy in c:\\python311\\lib\\site-packages (from torch) (1.12)\n",
            "Requirement already satisfied: networkx in c:\\python311\\lib\\site-packages (from torch) (3.2.1)\n",
            "Requirement already satisfied: jinja2 in c:\\python311\\lib\\site-packages (from torch) (3.1.2)\n",
            "Requirement already satisfied: numpy in c:\\python311\\lib\\site-packages (from torchvision) (1.25.0)\n",
            "Requirement already satisfied: requests in c:\\python311\\lib\\site-packages (from torchvision) (2.31.0)\n",
            "Requirement already satisfied: pillow!=8.3.*,>=5.3.0 in c:\\python311\\lib\\site-packages (from torchvision) (10.0.1)\n",
            "Requirement already satisfied: MarkupSafe>=2.0 in c:\\python311\\lib\\site-packages (from jinja2->torch) (2.1.3)\n",
            "Requirement already satisfied: charset-normalizer<4,>=2 in c:\\python311\\lib\\site-packages (from requests->torchvision) (3.2.0)\n",
            "Requirement already satisfied: idna<4,>=2.5 in c:\\python311\\lib\\site-packages (from requests->torchvision) (3.4)\n",
            "Requirement already satisfied: urllib3<3,>=1.21.1 in c:\\python311\\lib\\site-packages (from requests->torchvision) (1.26.16)\n",
            "Requirement already satisfied: certifi>=2017.4.17 in c:\\python311\\lib\\site-packages (from requests->torchvision) (2023.7.22)\n",
            "Requirement already satisfied: mpmath>=0.19 in c:\\python311\\lib\\site-packages (from sympy->torch) (1.3.0)\n"
          ]
        },
        {
          "name": "stderr",
          "output_type": "stream",
          "text": [
            "WARNING: There was an error checking the latest version of pip.\n"
          ]
        },
        {
          "name": "stdout",
          "output_type": "stream",
          "text": [
            "Requirement already satisfied: torchsummary in c:\\python311\\lib\\site-packages (1.5.1)\n"
          ]
        },
        {
          "name": "stderr",
          "output_type": "stream",
          "text": [
            "WARNING: There was an error checking the latest version of pip.\n"
          ]
        },
        {
          "name": "stdout",
          "output_type": "stream",
          "text": [
            "Requirement already satisfied: numpy in c:\\python311\\lib\\site-packages (1.25.0)\n",
            "Requirement already satisfied: matplotlib in c:\\python311\\lib\\site-packages (3.7.3)\n",
            "Requirement already satisfied: opencv-python in c:\\python311\\lib\\site-packages (4.8.1.78)\n",
            "Requirement already satisfied: contourpy>=1.0.1 in c:\\python311\\lib\\site-packages (from matplotlib) (1.1.1)\n",
            "Requirement already satisfied: cycler>=0.10 in c:\\python311\\lib\\site-packages (from matplotlib) (0.12.1)\n",
            "Requirement already satisfied: fonttools>=4.22.0 in c:\\python311\\lib\\site-packages (from matplotlib) (4.43.1)\n",
            "Requirement already satisfied: kiwisolver>=1.0.1 in c:\\python311\\lib\\site-packages (from matplotlib) (1.4.5)\n",
            "Requirement already satisfied: packaging>=20.0 in c:\\python311\\lib\\site-packages (from matplotlib) (23.1)\n",
            "Requirement already satisfied: pillow>=6.2.0 in c:\\python311\\lib\\site-packages (from matplotlib) (10.0.1)\n",
            "Requirement already satisfied: pyparsing>=2.3.1 in c:\\python311\\lib\\site-packages (from matplotlib) (3.1.1)\n",
            "Requirement already satisfied: python-dateutil>=2.7 in c:\\python311\\lib\\site-packages (from matplotlib) (2.8.2)\n",
            "Requirement already satisfied: six>=1.5 in c:\\python311\\lib\\site-packages (from python-dateutil>=2.7->matplotlib) (1.16.0)\n"
          ]
        },
        {
          "name": "stderr",
          "output_type": "stream",
          "text": [
            "WARNING: There was an error checking the latest version of pip.\n"
          ]
        }
      ],
      "source": [
        "!pip install torch torchvision --index-url https://download.pytorch.org/whl/cu118\n",
        "!pip install torchsummary\n",
        "!pip install numpy matplotlib opencv-python"
      ]
    },
    {
      "cell_type": "code",
      "execution_count": 7,
      "metadata": {},
      "outputs": [
        {
          "name": "stderr",
          "output_type": "stream",
          "text": [
            "WARNING: There was an error checking the latest version of pip.\n"
          ]
        },
        {
          "name": "stdout",
          "output_type": "stream",
          "text": [
            "Requirement already satisfied: opencv-python in c:\\python311\\lib\\site-packages (4.8.1.78)\n",
            "Requirement already satisfied: numpy>=1.21.2 in c:\\python311\\lib\\site-packages (from opencv-python) (1.25.0)\n"
          ]
        }
      ],
      "source": [
        "!python -m pip install opencv-python"
      ]
    },
    {
      "cell_type": "code",
      "execution_count": 2,
      "metadata": {
        "id": "ZSE31EGe8mBC"
      },
      "outputs": [],
      "source": [
        "import torch\n",
        "import torch.nn as nn\n",
        "import torchvision\n",
        "import torch.nn.functional as F\n",
        "import torch.optim as optim\n",
        "from torch.utils.data import TensorDataset, Dataset, DataLoader\n",
        "\n",
        "from torchsummary import summary\n",
        "\n",
        "# import cv2\n",
        "import numpy as np\n",
        "import matplotlib.pyplot as plt"
      ]
    },
    {
      "cell_type": "markdown",
      "metadata": {
        "id": "l3WCkur18mBD"
      },
      "source": [
        "# Zadatak 1 - Klasifikacija slike rukom pisanih znamenki"
      ]
    },
    {
      "cell_type": "markdown",
      "metadata": {
        "id": "5LQFOnwx8mBD"
      },
      "source": [
        "U prvom zadatku ove laboratorijske vježbe želimo analizirati utjecaj arhitekture mreže i drugih hiperparametara na uspješnost predikcije. Vaš zadatak je složiti nekoliko modela različitih karakteristika, te će te te modele istrenirati na problemu klasifikacije rukom pisanih znamenki.\n",
        "\n",
        "Veliki dio koda koji je potreban za provođenje vježbe je dan. Vi ćete riješiti zadatak nadopunjavanjem koda. Također ste slobodni izmjeniti predloženi kod, ali ne preporuča se. Za labos je potreban Python 3.8+ i PyTorch 1.6+."
      ]
    },
    {
      "cell_type": "markdown",
      "metadata": {
        "id": "sGsPVukl8mBF"
      },
      "source": [
        "## Učitavanje podataka"
      ]
    },
    {
      "cell_type": "markdown",
      "metadata": {
        "id": "kkfRpD1q8mBF"
      },
      "source": [
        "Sljedeći kod priprema MNIST Dataset objekte koji dolaze s PyTorch paketom. Također instanciramo i DataLoader objekte koji rukuju sa mješanjem i batchanjem skupa podataka."
      ]
    },
    {
      "cell_type": "code",
      "execution_count": 3,
      "metadata": {
        "colab": {
          "base_uri": "https://localhost:8080/"
        },
        "id": "fAaV4B5S8mBG",
        "outputId": "087e6773-6730-4c58-a146-65ebd8b5ab58"
      },
      "outputs": [
        {
          "name": "stdout",
          "output_type": "stream",
          "text": [
            "Downloading http://yann.lecun.com/exdb/mnist/train-images-idx3-ubyte.gz\n",
            "Downloading http://yann.lecun.com/exdb/mnist/train-images-idx3-ubyte.gz to ./files/MNIST\\raw\\train-images-idx3-ubyte.gz\n"
          ]
        },
        {
          "name": "stderr",
          "output_type": "stream",
          "text": [
            "100%|██████████| 9912422/9912422 [00:07<00:00, 1399166.00it/s]\n"
          ]
        },
        {
          "name": "stdout",
          "output_type": "stream",
          "text": [
            "Extracting ./files/MNIST\\raw\\train-images-idx3-ubyte.gz to ./files/MNIST\\raw\n",
            "\n",
            "Downloading http://yann.lecun.com/exdb/mnist/train-labels-idx1-ubyte.gz\n",
            "Downloading http://yann.lecun.com/exdb/mnist/train-labels-idx1-ubyte.gz to ./files/MNIST\\raw\\train-labels-idx1-ubyte.gz\n"
          ]
        },
        {
          "name": "stderr",
          "output_type": "stream",
          "text": [
            "100%|██████████| 28881/28881 [00:00<00:00, 13633730.31it/s]"
          ]
        },
        {
          "name": "stdout",
          "output_type": "stream",
          "text": [
            "Extracting ./files/MNIST\\raw\\train-labels-idx1-ubyte.gz to ./files/MNIST\\raw\n",
            "\n",
            "Downloading http://yann.lecun.com/exdb/mnist/t10k-images-idx3-ubyte.gz\n",
            "Downloading http://yann.lecun.com/exdb/mnist/t10k-images-idx3-ubyte.gz to ./files/MNIST\\raw\\t10k-images-idx3-ubyte.gz\n"
          ]
        },
        {
          "name": "stderr",
          "output_type": "stream",
          "text": [
            "\n",
            "100%|██████████| 1648877/1648877 [00:01<00:00, 1398065.44it/s]\n"
          ]
        },
        {
          "name": "stdout",
          "output_type": "stream",
          "text": [
            "Extracting ./files/MNIST\\raw\\t10k-images-idx3-ubyte.gz to ./files/MNIST\\raw\n",
            "\n",
            "Downloading http://yann.lecun.com/exdb/mnist/t10k-labels-idx1-ubyte.gz\n",
            "Downloading http://yann.lecun.com/exdb/mnist/t10k-labels-idx1-ubyte.gz to ./files/MNIST\\raw\\t10k-labels-idx1-ubyte.gz\n"
          ]
        },
        {
          "name": "stderr",
          "output_type": "stream",
          "text": [
            "100%|██████████| 4542/4542 [00:00<?, ?it/s]\n"
          ]
        },
        {
          "name": "stdout",
          "output_type": "stream",
          "text": [
            "Extracting ./files/MNIST\\raw\\t10k-labels-idx1-ubyte.gz to ./files/MNIST\\raw\n",
            "\n"
          ]
        }
      ],
      "source": [
        "batch_size_train = 64\n",
        "batch_size_test = 64\n",
        "\n",
        "train_set = torchvision.datasets.MNIST('./files/', train=True, download=True,\n",
        "                                       transform=torchvision.transforms.Compose([\n",
        "                                           torchvision.transforms.ToTensor(),\n",
        "                                           torchvision.transforms.Normalize((0.1307,), (0.3081,))])\n",
        "                                      )\n",
        "\n",
        "\n",
        "test_set = torchvision.datasets.MNIST('./files/', train=False, download=True,\n",
        "                                      transform=torchvision.transforms.Compose([\n",
        "                                          torchvision.transforms.ToTensor(),\n",
        "                                          torchvision.transforms.Normalize((0.1307,), (0.3081,))])\n",
        "                                     )"
      ]
    },
    {
      "cell_type": "code",
      "execution_count": 4,
      "metadata": {
        "id": "_J3mCzx_8mBH"
      },
      "outputs": [],
      "source": [
        "train_loader = DataLoader(train_set, batch_size=batch_size_train, shuffle=True)\n",
        "test_loader = DataLoader(test_set, batch_size=batch_size_test, shuffle=True)"
      ]
    },
    {
      "cell_type": "markdown",
      "metadata": {
        "id": "vDMLAixp8mBH"
      },
      "source": [
        "#### Podzadatak a)\n",
        "Prikažite nekoliko primjera iz skupa za testiranje. Sliku pokažite pomoću `matplotlib` funkcije `imshow`. Neka `title` prikazane slike bude labela uzorka."
      ]
    },
    {
      "cell_type": "code",
      "execution_count": 6,
      "metadata": {
        "id": "jPgL5KDBfDkM"
      },
      "outputs": [
        {
          "data": {
            "image/png": "[encoded data removed]",
            "text/plain": [
              "<Figure size 640x480 with 1 Axes>"
            ]
          },
          "metadata": {},
          "output_type": "display_data"
        },
        {
          "data": {
            "image/png": "[encoded data removed]",
            "text/plain": [
              "<Figure size 640x480 with 1 Axes>"
            ]
          },
          "metadata": {},
          "output_type": "display_data"
        },
        {
          "data": {
            "image/png": "[encoded data removed]",
            "text/plain": [
              "<Figure size 640x480 with 1 Axes>"
            ]
          },
          "metadata": {},
          "output_type": "display_data"
        },
        {
          "data": {
            "image/png": "[encoded data removed]",
            "text/plain": [
              "<Figure size 640x480 with 1 Axes>"
            ]
          },
          "metadata": {},
          "output_type": "display_data"
        },
        {
          "data": {
            "image/png": "[encoded data removed]",
            "text/plain": [
              "<Figure size 640x480 with 1 Axes>"
            ]
          },
          "metadata": {},
          "output_type": "display_data"
        },
        {
          "data": {
            "image/png": "[encoded data removed]",
            "text/plain": [
              "<Figure size 640x480 with 1 Axes>"
            ]
          },
          "metadata": {},
          "output_type": "display_data"
        }
      ],
      "source": [
        "examples = enumerate(test_loader)\n",
        "batch_idx, (example_data, example_targets) = next(examples)\n",
        "\n",
        "\n",
        "fig = plt.figure()\n",
        "for i in range(6):\n",
        "  idx, (img,label) = next(examples)\n",
        "  plt.subplot(2,3,i+1)\n",
        "  plt.tight_layout()\n",
        "  plt.imshow(img[i].numpy().transpose(1,2,0))\n",
        "  plt.title(str(label[i].item()))\n",
        "  plt.show()\n"
      ]
    },
    {
      "cell_type": "markdown",
      "metadata": {
        "id": "1kQ9qiYI8mBJ"
      },
      "source": [
        "## Pomoćne metode za treniranje neuronskih mreža"
      ]
    },
    {
      "cell_type": "markdown",
      "metadata": {
        "id": "1S0DED4z8mBK"
      },
      "source": [
        "Nakon podzadataka ove sekcije postoji skup testova na kojima možete provjeriti točnost vaših pomoćnih funkcija. Bez točno rješenih pomoćnih funkcija ostatak labosa ne možete riješiti."
      ]
    },
    {
      "cell_type": "markdown",
      "metadata": {
        "id": "hmrFy8BM8mBK"
      },
      "source": [
        "#### Podzadatak b) - Funkcija za određivanje broja parametara PyTorch modela\n",
        "\n",
        "Jedna od metoda usporedbe naših modela će biti po broju parametara koji čine taj model. Radi toga je potrebno napisati metodu `get_number_of_model_parameters(model)` koja za predani model `model` vraća ukupni broj parametara tog modela.\n",
        "Svaki PyTorch model sadrži implementaciju metode `.parameters()` koja vraća iterator nad parametrima modela. Ti parametri su tipa `torch.nn.parameter.Parameter`, čije dimenzije možemo dobiti pomoću `.shape` propertya.\n",
        "Dovršite traženu metodu."
      ]
    },
    {
      "cell_type": "code",
      "execution_count": 62,
      "metadata": {
        "id": "K3eW20iq8mBK"
      },
      "outputs": [],
      "source": [
        "def get_number_of_model_parameters(model):\n",
        "    total_params = sum(p.numel() for p in model.parameters())\n",
        "    return total_params\n",
        "\n"
      ]
    },
    {
      "cell_type": "markdown",
      "metadata": {
        "id": "9lYXeFCj8mBK"
      },
      "source": [
        "#### Podzadatak c) - Funkcija za treniranje modela\n",
        "\n",
        "Model se trenira u četiri koraka.\n",
        "\n",
        "1. Izračuna se prolaz unaprijed nad jednim batchom.\n",
        "2. Na temelju dobivenog izlaza i točnih labela se računa gubitak. Kako je pokazano u demonstracijskoj bilježnici.\n",
        "3. Izračunata greška se propagira unazad kroz mrežu radi računanja gradijenata.\n",
        "4. Na temelju gradijenata, vrijednosti parametara i parametrima optimizatora (koji optimizator se koristi, kolika je stopa učenja, momentum i slično) se računa nova vrijednost parametara modela.\n",
        "\n",
        "Implementirajte te korake u funkciji `train_step(train_loader, epoch, device, verbose)`.  \n",
        "\n",
        "Napomene:\n",
        "* Grešku koju trebate računati je \"negative log likelihood loss\", za koju PyTorch nudi implementaciju. Preporučamo da koristite gotovu implementaciju loss funkcije.\n",
        "* Računanje gradijenata pomoću propagacije greške u nazad se računa pomoću metode `.backward()`. Nad kojim elementom pozivamo tu metodu?\n",
        "* Korak optimizacije se radi pomoću `.step()` metode optimizator objekta. Pretpostavite da postoji objekt `optimizer` u globalnom scopeu.\n",
        "* Pripazite da Vam se gradijenti ne akumuliraju kroz više koraka optimizacije. PyTorch modeli nude metodu `.zero_grad()` koja postavlja vrijednosti svih gradijenata nekog modela na 0.\n"
      ]
    },
    {
      "cell_type": "code",
      "execution_count": 19,
      "metadata": {
        "id": "9v9QCXMS8mBL"
      },
      "outputs": [],
      "source": [
        "def train_step(network, train_loader, epoch, device, verbose=True):\n",
        "    train_losses = []\n",
        "    train_counter = []\n",
        "\n",
        "    network.train()\n",
        "\n",
        "    for batch_idx, (data, target) in enumerate(train_loader):\n",
        "        data = data.to(device)\n",
        "        target = target.to(device)\n",
        "\n",
        "        network.zero_grad()\n",
        "        output = network(data)\n",
        "        loss = F.nll_loss(output, target)\n",
        "        loss.backward()\n",
        "        optimizer.step()\n",
        "\n",
        "        if (batch_idx % log_interval == 0):\n",
        "            if verbose:\n",
        "                print('Train Epoch: {:5d} [{:5d}/{:5d} ({:2.0f}%)]\\tLoss: {:.6f}'.format(\n",
        "                    epoch,\n",
        "                    batch_idx * len(data),\n",
        "                    len(train_loader.dataset),\n",
        "                    100. * batch_idx / len(train_loader),\n",
        "                    loss.item()))\n",
        "\n",
        "            train_losses.append(loss.item())\n",
        "            train_counter.append((batch_idx*64) + ((epoch-1)*len(train_loader.dataset)))\n",
        "\n",
        "    return train_losses, train_counter"
      ]
    },
    {
      "cell_type": "markdown",
      "metadata": {
        "id": "ohf-a5xe8mBL"
      },
      "source": [
        "#### Podzadatak d) - Funkcija za evaluaciju modela\n",
        "\n",
        "Uspješnost učenja određujemo pomoću metrika točnosti. U ovoj laboratorijskoj vježbi pratimo dvije metrike - `negative log likelihood` i `accuracy`. Sa NLLLoss smo se već susreli; accuracy definiramo kao:\n",
        "\n",
        "$ accuracy = \\frac{\\text{number of correctly classified samples}}{\\text{total number of samples}} $\n",
        "\n",
        "Nadopunite funkciju `test(network, test_loader, device, verbose)` tako da se model evaluira za navedene metrike.\n",
        "\n",
        "U predloženom kodu se koristi `with torch.no_grad()`. Kako tijekom evaluacije ne mjenjamo parametre modela, gradijent nam nije potreban. Time ubrzavamo računanje (ne računa se gradijent), štedimo memoriju (izračunati gradijent se ne sprema) i spriječavamo buduće probleme (npr. ostanu gradijenti do sljedeće faze treniranja, gdje se gradijenti test seta iskoriste za učenje)."
      ]
    },
    {
      "cell_type": "code",
      "execution_count": 20,
      "metadata": {
        "id": "6yZi-V2G8mBM"
      },
      "outputs": [],
      "source": [
        "def test(network, test_loader, device, verbose=True):\n",
        "    network.eval()\n",
        "\n",
        "    test_loss = 0\n",
        "    correct = 0\n",
        "    with torch.no_grad():\n",
        "        for data, target in test_loader:\n",
        "            data = data.to(device)\n",
        "            target = target.to(device)\n",
        "\n",
        "            output = network(data)\n",
        "            test_loss+= F.nll_loss(output,target, reduction='sum').item()\n",
        "            pred = output.data.max(1, keepdim=True)[1]\n",
        "            correct+= pred.eq(target.data.view_as(pred)).sum()\n",
        "\n",
        "    test_loss /= len(test_loader.dataset)\n",
        "    accuracy = 100. * correct / len(test_loader.dataset)\n",
        "\n",
        "    if verbose:\n",
        "        print('\\nTest set: Avg. loss: {:.4f}, Accuracy: {:5d}/{:5d} ({:2.2f}%)\\n'.format(\n",
        "            test_loss,\n",
        "            correct,\n",
        "            len(test_loader.dataset),\n",
        "            accuracy))\n",
        "\n",
        "    return test_loss, accuracy.item()"
      ]
    },
    {
      "cell_type": "markdown",
      "metadata": {
        "id": "UU8TX3m_8mBM"
      },
      "source": [
        "U sljedećoj fazi laboratorijske vježbe izvršavamo eksperimente, spremamo rezultate i uspoređujemo. Rezultate ćemo spremati u mapi `results`, tako da će `key` mape biti naziv eksperimenta, a vrijednost će biti `tuple` koji sadrži vrijednosti po kojima se model uspoređuje."
      ]
    },
    {
      "cell_type": "code",
      "execution_count": 10,
      "metadata": {
        "id": "McGMo44M8mBN"
      },
      "outputs": [],
      "source": [
        "results = dict()"
      ]
    },
    {
      "cell_type": "markdown",
      "metadata": {
        "id": "aiqiUWi_8mBN"
      },
      "source": [
        "#### Podzadatak e) - Funkcija za provođenje cijelokupnog eksperimenta nad jednim modelom\n",
        "\n",
        "Sada je vrijeme da se koraci iz prethodnih podzadataka objedine. Funkcija `train_network(network, train_loader, test_loader, device)` radi po sljedećem principu:\n",
        "\n",
        "* Pretpostavlja se da u globalnom scopeu postoji varijabla imena `n_epochs` koja nam govori koliko epoha će se eksperiment izvršavati\n",
        "* Liste `train_losses` i `test_losses` skupljaju loss vrijednosti tijekom treniranja, dok `train_counter` i `test_counter` skupljaju trenutke u kojima se metrika zabilježila (drugim riječima, to su X i Y os na grafu \"loss po vremenu\")\n",
        "* prije samog treniranja se vrši testiranje modela, da se utvrdi performansa slučajnog modela\n",
        "* U svakoj epohi se model trenira, testira i rezultati se zapisuju u odgovarajuće liste\n",
        "* Funkcija vraća te liste na kraju"
      ]
    },
    {
      "cell_type": "code",
      "execution_count": 21,
      "metadata": {
        "id": "cJegOPOX8mBO"
      },
      "outputs": [],
      "source": [
        "def train_network(network, train_loader, test_loader, device='cpu'):\n",
        "    train_losses = []\n",
        "    train_counter = []\n",
        "    test_losses = []\n",
        "    test_counter = [i*len(train_loader.dataset) for i in range(n_epochs + 1)]\n",
        "\n",
        "    test_loss, accuracy = test(network,test_loader,device)\n",
        "    test_losses.append(test_loss)\n",
        "\n",
        "    for epoch in range(1, n_epochs + 1):\n",
        "        new_train_losses,new_train_counter = train_step(network,\n",
        "                                                        train_loader,\n",
        "                                                        epoch,\n",
        "                                                        device)\n",
        "        test_loss,accuracy = test(network,\n",
        "                                  test_loader,\n",
        "                                  device)\n",
        "\n",
        "\n",
        "        train_losses.extend(new_train_losses)\n",
        "        train_counter.extend(new_train_counter)\n",
        "        test_losses.append(test_loss)\n",
        "\n",
        "    return train_losses, train_counter, test_losses, test_counter, accuracy"
      ]
    },
    {
      "cell_type": "markdown",
      "metadata": {
        "id": "BPx7ob8Y8mBO"
      },
      "source": [
        "#### Testovi za utvrđivanje točnosti rada pomoćnih funkcija"
      ]
    },
    {
      "cell_type": "markdown",
      "metadata": {
        "id": "paV04rNe8mBO"
      },
      "source": [
        "Sljedeći kod služi kao pomoć za provjeru ispravnosti gore traženih pomoćnih funkcija. Generira se dataset u dva odvojena skupa, i cilj je naučiti model koji klasificira iz kojeg skupa točka dolazi. Prvo generiramo podatke i slažemo DataLoader:"
      ]
    },
    {
      "cell_type": "code",
      "execution_count": 89,
      "metadata": {
        "colab": {
          "base_uri": "https://localhost:8080/",
          "height": 430
        },
        "id": "kNsH_z638mBP",
        "outputId": "55b46163-3ea7-4f3b-ed5c-e990415f1a03"
      },
      "outputs": [
        {
          "data": {
            "image/png": "[encoded data removed]",
            "text/plain": [
              "<Figure size 640x480 with 1 Axes>"
            ]
          },
          "metadata": {},
          "output_type": "display_data"
        }
      ],
      "source": [
        "data_x = np.hstack([np.random.uniform(1, 3, 50), np.random.uniform(7, 9, 50)])\n",
        "data_y = np.hstack([np.random.uniform(1, 4, 50), np.random.uniform(10, 13, 50)])\n",
        "labels = [0 if x < 50 else 1 for x in range(0, 100)]\n",
        "\n",
        "for idx, unique_label in enumerate([\"lower left\", \"upper right\"]):\n",
        "    if idx == 0:\n",
        "        plt.scatter(data_x[0:50], data_y[0:50], label=unique_label)\n",
        "    if idx == 1:\n",
        "        plt.scatter(data_x[50:], data_y[50:], label=unique_label)\n",
        "\n",
        "plt.legend()\n",
        "plt.xlim(0, 10)\n",
        "plt.ylim(0, 15)\n",
        "\n",
        "\n",
        "tensor_x = torch.Tensor(np.dstack([data_x, data_y]).reshape(100, 2).astype(np.float32))\n",
        "tensor_y = torch.Tensor(labels).to(dtype=torch.int64)\n",
        "\n",
        "toy_dataset = TensorDataset(tensor_x, tensor_y)\n",
        "toy_dataloader = DataLoader(toy_dataset, batch_size=1, shuffle=True)"
      ]
    },
    {
      "cell_type": "markdown",
      "metadata": {
        "id": "iNHdjaCR8mBQ"
      },
      "source": [
        "Nakon toga definiramo naš model. U ovom slučaju je model dvoslojna mreža sa dva potpuno povezana sloja."
      ]
    },
    {
      "cell_type": "code",
      "execution_count": 22,
      "metadata": {
        "id": "WbZMVoc98mBQ"
      },
      "outputs": [],
      "source": [
        "class Net(nn.Module):\n",
        "    def __init__(self):\n",
        "        super(Net, self).__init__()\n",
        "        self.fc1 = nn.Linear(2, 4)\n",
        "        self.fc2 = nn.Linear(4, 2)\n",
        "\n",
        "    def forward(self, x):\n",
        "        x = F.relu(self.fc1(x))\n",
        "        x = F.dropout(x, training=self.training)\n",
        "        x = self.fc2(x)\n",
        "\n",
        "        return F.log_softmax(x, dim=1)"
      ]
    },
    {
      "cell_type": "markdown",
      "metadata": {
        "id": "br8AYdhJ8mBQ"
      },
      "source": [
        "Podešavamo parametre koje naše pomoćne funkcije očekivaju, te instanciramo model i optimizator."
      ]
    },
    {
      "cell_type": "code",
      "execution_count": 23,
      "metadata": {
        "id": "mqep0hYD8mBR"
      },
      "outputs": [],
      "source": [
        "n_epochs = 30\n",
        "learning_rate = 0.01\n",
        "log_interval = 33\n",
        "\n",
        "network = Net().to('cpu')\n",
        "optimizer = optim.SGD(network.parameters(), lr=learning_rate)"
      ]
    },
    {
      "cell_type": "markdown",
      "metadata": {
        "id": "lVxivEP58mBR"
      },
      "source": [
        "I sada možemo trenirati naš model. Vaše funkcije su ispravne ako točnost doesgne 100% (ili barem jako blizu). **Bez ispravnih pomoćnih funkcija nećete moći riješiti ostatak labosa.**"
      ]
    },
    {
      "cell_type": "code",
      "execution_count": null,
      "metadata": {
        "colab": {
          "base_uri": "https://localhost:8080/",
          "height": 1000
        },
        "id": "kd9btJ7f8mBR",
        "outputId": "7392b354-90c1-48be-8a4d-702007b8e154"
      },
      "outputs": [],
      "source": [
        "train_network(network, toy_dataloader, toy_dataloader, 'cpu')"
      ]
    },
    {
      "cell_type": "markdown",
      "metadata": {
        "id": "c0hDHgfq8mBR"
      },
      "source": [
        "## Provođenje eksperimenata i analiza rezultata"
      ]
    },
    {
      "cell_type": "markdown",
      "metadata": {
        "id": "PWvBdwXm8mBR"
      },
      "source": [
        "#### Podzadatak f) - Eksperimenti\n",
        "\n",
        "Sljedeća faza labosa je korištenje naših funkcija u okviru eksperimenata. Potrebno je testirati sljedeće modele:\n",
        "\n",
        "* **Plitki model sa uskim slojevima**\n",
        "    * Model je plitak po tome što nema puno slojeva (ne ide u dubinu) i uzak po tome što sami slojevi nemaju veliki broj elemenata (npr. 1 sloj sa 100 neurona umjesto 10 slojeva sa 10 neurona)\n",
        "    * Arhitektura modela je sljedeća:\n",
        "        * Konvolucijski sloj 5x5x10\n",
        "        * Dropout (za regularizaciju)\n",
        "        * Max pooling\n",
        "        * ReLU aktivacija\n",
        "        * Potpuno povezani sloj sa 20 neurona, ReLU aktivacija\n",
        "        * Potpuno povezani sloj za klasifikaciju u 10 klasa, log softmax aktivacijska funkcija\n",
        "    * U `results` mapi se sprema pod ključem `shallow_and_narrow_{stopa učenja}`\n",
        "* **Plitki model sa širokim slojevima**\n",
        "    * Ovaj model također nema puno slojeva, ali ti slojevi imaju puno elemenata\n",
        "    * Arhitektura modela je sljedeća:\n",
        "        * Konvolucijski sloj 5x5x40\n",
        "        * Dropout (za regularizaciju)\n",
        "        * Max pooling\n",
        "        * ReLU aktivacija\n",
        "        * Potpuno povezani sloj sa 64 neurona, ReLU aktivacija\n",
        "        * Potpuno povezani sloj za klasifikaciju u 10 klasa, log softmax aktivacijska funkcija\n",
        "    * U `results` mapi se sprema pod ključem `shallow_and_wide_{stopa učenja}`\n",
        "* **Duboki model sa uskim slojevima**\n",
        "    * Ovaj model ima puno slojeva, ali su ti slojevi ograničeni u svojoj širini\n",
        "    * Arhitektura modela je sljedeća:\n",
        "        * Konvolucijski sloj 5x5x10, ReLU aktivacijska funkcija\n",
        "        * Max pooling\n",
        "        * Konvolucijski sloj 5x5x20, ReLU aktivacijska funkcija\n",
        "        * Max pooling\n",
        "        * Potpuno povezani sloj sa 64 neurona, ReLU aktivacija\n",
        "        * Dropout (za regularizaciju)\n",
        "        * Potpuno povezani sloj za klasifikaciju u 10 klasa, log softmax aktivacijska funkcija\n",
        "    * U `results` mapi se sprema pod ključem `deep_and_narrow_{stopa učenja}`\n",
        "* **Duboki model sa širokim slojevima**\n",
        "    * Model koji ima sve komponente dobro (ili previše?) zastupljene.\n",
        "    * Arhitektura modela je sljedeća:\n",
        "        * Konvolucijski sloj 5x5x32, ReLU aktivacijska funkcija\n",
        "        * Max pooling\n",
        "        * Konvolucijski sloj 5x5x64, ReLU aktivacijska funkcija\n",
        "        * Max pooling\n",
        "        * Potpuno povezani sloj sa 50 neurona, ReLU aktivacija\n",
        "        * Dropout (za regularizaciju)\n",
        "        * Potpuno povezani sloj za klasifikaciju u 10 klasa, log softmax aktivacijska funkcija\n",
        "    * U `results` mapi se sprema pod ključem `deep_and_wide_{stopa učenja}`\n",
        "\n",
        "\n",
        "Implementirajte `.__init__(self)` i `.forward(self, x)` metode za svaki od opisanih modela, trenirajte ih, evaluirajte i spremite metrike. **Ponovite taj postupak za 3 različite stope učenja: 0.0000001, 0.01 i 1.**\n",
        "\n",
        "Sve potrebne slojeve za ostvarenje navedenih modela možete pronaći u torch.nn modulu. Detalje možete pronaći u službenoj PyTorch dokumentaciji: https://pytorch.org/docs/stable/index.html\n",
        "\n",
        "**Spremite si najbolji model. Biti će potreban u podzadatku h)**."
      ]
    },
    {
      "cell_type": "markdown",
      "metadata": {
        "id": "Ren1f8A_8mBS"
      },
      "source": [
        "Prvo je potrebno podesiti parametre. Parametri su sljedeći:\n",
        "* n_epochs - broj epoha eksperimenta\n",
        "* learning_rate - stopa učenja\n",
        "* log_interval - broj koraka između dva ispisa tijekom treniranja (ispis se događa samo ako se funkcija poziva s argumentom verbose=True)\n",
        "* device - oznaka na kojem se uređaju izvršava eksperiment; \"cuda\" za GPU, \"cpu\" za CPU"
      ]
    },
    {
      "cell_type": "code",
      "execution_count": 82,
      "metadata": {
        "id": "oDWKY6xv8mBT"
      },
      "outputs": [],
      "source": [
        "n_epochs = 3\n",
        "learning_rate = 0.01\n",
        "log_interval = 100\n",
        "device = 'cuda' if torch.cuda.is_available() else 'cpu'"
      ]
    },
    {
      "cell_type": "markdown",
      "metadata": {
        "id": "CCwyio0H8mBT"
      },
      "source": [
        "Naš model definiramo u klasi \"Net\" koja nasljeđuje nn.Module. Nadjačajte metode `__init__(self)` i `forward(self, x)` kako je opisano u tekstu zadatka."
      ]
    },
    {
      "cell_type": "code",
      "execution_count": 83,
      "metadata": {},
      "outputs": [],
      "source": [
        "class DeepWideModel(nn.Module):\n",
        "    def __init__(self):\n",
        "        super(DeepWideModel, self).__init__()\n",
        "        self.conv1 = nn.Conv2d(1, 32, kernel_size=5, padding=2)\n",
        "        self.conv2 = nn.Conv2d(32, 64, kernel_size=5, padding=2)\n",
        "        self.fc1 = nn.Linear(64 * 7 * 7, 50)\n",
        "        self.drop = nn.Dropout(0.5)\n",
        "        self.fc2 = nn.Linear(50, 10)\n",
        "\n",
        "         \n",
        "    def forward(self, x):\n",
        "        x = F.max_pool2d(F.relu(self.conv1(x)), 2)\n",
        "        x = F.max_pool2d(F.relu(self.conv2(x)), 2)\n",
        "        x = x.view(x.size(0), -1)  \n",
        "        x = F.relu(self.fc1(x))\n",
        "        x = self.drop(x)\n",
        "        x = self.fc2(x)\n",
        "        return F.log_softmax(x, dim=1)"
      ]
    },
    {
      "cell_type": "code",
      "execution_count": 107,
      "metadata": {},
      "outputs": [],
      "source": [
        "class DeepNarrowModel(nn.Module):\n",
        "    def __init__(self):\n",
        "        super(DeepNarrowModel, self).__init__()\n",
        "        self.conv1 = nn.Conv2d(1,10, kernel_size=5)\n",
        "        self.conv2 = nn.Conv2d(10,20, kernel_size=5)\n",
        "        self.fc1 = nn.Linear(20 * 4 * 4 ,64)\n",
        "        self.drop = nn.Dropout(0.5)\n",
        "        self.fc2 = nn.Linear(64,10)\n",
        "         \n",
        "    def forward(self, x):\n",
        "        x = F.max_pool2d(F.relu(self.conv1(x)), 2)\n",
        "        x = F.max_pool2d(F.relu(self.conv2(x)), 2)\n",
        "        x = x.view(-1, 20 * 4 * 4) \n",
        "        x = F.relu(self.fc1(x))\n",
        "        x = self.drop(x)\n",
        "        x = self.fc2(x)\n",
        "        return F.log_softmax(x, dim=1)"
      ]
    },
    {
      "cell_type": "code",
      "execution_count": 85,
      "metadata": {},
      "outputs": [],
      "source": [
        "class ShallowWideModel(nn.Module):\n",
        "    def __init__(self):\n",
        "        super(ShallowWideModel, self).__init__()\n",
        "        self.conv1 = nn.Conv2d(1, 40, 5)\n",
        "        self.drop = nn.Dropout2d(0.5)\n",
        "        self.fc1 = nn.Linear(40, 64)\n",
        "        self.fc2 = nn.Linear(64, 10)\n",
        "        \n",
        "    def forward(self, x):\n",
        "        x = self.conv1(x)\n",
        "        x  = self.drop(x)\n",
        "        x = F.relu(F.max_pool2d(x, 2))\n",
        "        x = F.relu(self.fc1(x))\n",
        "        x = self.fc2(x)\n",
        "        return F.log_softmax(x, dim=1)"
      ]
    },
    {
      "cell_type": "code",
      "execution_count": 119,
      "metadata": {
        "id": "F1m2mIIS8mBT"
      },
      "outputs": [],
      "source": [
        "class ShallowNarrowModel(nn.Module):\n",
        "    def __init__(self):\n",
        "        super(ShallowNarrowModel, self).__init__()\n",
        "        self.conv1 = nn.Conv2d(1,10, 5)\n",
        "        self.drop = nn.Dropout2d(0.5)\n",
        "        self.fc1 = nn.Linear(10 * 12 * 12, 20)\n",
        "        self.fc2 = nn.Linear(20, 10)\n",
        "    \n",
        "    def forward(self, x):\n",
        "        x = self.conv1(x)\n",
        "        x  = self.drop(x)\n",
        "        x = F.relu(F.max_pool2d(x, 2))\n",
        "        x = x.view(-1, 10 * 12 * 12)\n",
        "        x = F.relu(self.fc1(x))\n",
        "        x = self.fc2(x)\n",
        "        return F.log_softmax(x, dim=1)"
      ]
    },
    {
      "cell_type": "markdown",
      "metadata": {
        "id": "fKokmD838mBT"
      },
      "source": [
        "Da bi trenirali naš model, potrebno je napraviti instancu mreže i optimizatora. Koristite Stohastic Gradient Descent optimizator iz torch.optim modula. Detalji se mogu pronaći u službenoj dokuemntaciji PyTorcha za optim modul: https://pytorch.org/docs/stable/optim.html"
      ]
    },
    {
      "cell_type": "code",
      "execution_count": 77,
      "metadata": {
        "id": "HrXS5a7U8mBT"
      },
      "outputs": [],
      "source": [
        "network = DeepWideModel().to(device)\n",
        "optimizer = optim.SGD(network.parameters(), lr=learning_rate)\n"
      ]
    },
    {
      "cell_type": "markdown",
      "metadata": {
        "id": "qgC4PDf38mBU"
      },
      "source": [
        "Iskoristimo našu pripremljenu funkciju za izvođenje eksperimenta:"
      ]
    },
    {
      "cell_type": "code",
      "execution_count": null,
      "metadata": {
        "id": "1FSxK8WV8mBU"
      },
      "outputs": [],
      "source": [
        "train_losses, train_counter, test_losses, test_counter, test_accuracy = train_network(network, train_loader, test_loader, device)"
      ]
    },
    {
      "cell_type": "markdown",
      "metadata": {
        "id": "YnIGh2l88mBU"
      },
      "source": [
        "Spremimo rezultate u mapu `results` kako je navedeno u zadatku. Također nam je potreban broj parametara mreže, što možemo izračunati u ovom koraku."
      ]
    },
    {
      "cell_type": "code",
      "execution_count": 63,
      "metadata": {
        "id": "4IDqN3iy8mBU"
      },
      "outputs": [],
      "source": [
        "number_of_parameters = get_number_of_model_parameters(network)\n",
        "results[f'deep_and_wide_{learning_rate}'] = (train_counter, train_losses, test_counter, test_losses, test_accuracy, number_of_parameters)"
      ]
    },
    {
      "cell_type": "code",
      "execution_count": 108,
      "metadata": {},
      "outputs": [
        {
          "name": "stdout",
          "output_type": "stream",
          "text": [
            "\n",
            "Test set: Avg. loss: 2.3130, Accuracy:   804/10000 (8.04%)\n",
            "\n",
            "Train Epoch:     1 [    0/60000 ( 0%)]\tLoss: 2.278196\n",
            "Train Epoch:     1 [ 6400/60000 (11%)]\tLoss: 2.106158\n",
            "Train Epoch:     1 [12800/60000 (21%)]\tLoss: 1.273600\n",
            "Train Epoch:     1 [19200/60000 (32%)]\tLoss: 0.997700\n",
            "Train Epoch:     1 [25600/60000 (43%)]\tLoss: 0.743244\n",
            "Train Epoch:     1 [32000/60000 (53%)]\tLoss: 0.505034\n",
            "Train Epoch:     1 [38400/60000 (64%)]\tLoss: 0.591582\n",
            "Train Epoch:     1 [44800/60000 (75%)]\tLoss: 0.458469\n",
            "Train Epoch:     1 [51200/60000 (85%)]\tLoss: 0.418011\n",
            "Train Epoch:     1 [57600/60000 (96%)]\tLoss: 0.466417\n",
            "\n",
            "Test set: Avg. loss: 0.2206, Accuracy:  9317/10000 (93.17%)\n",
            "\n",
            "Train Epoch:     2 [    0/60000 ( 0%)]\tLoss: 0.325373\n",
            "Train Epoch:     2 [ 6400/60000 (11%)]\tLoss: 0.399078\n",
            "Train Epoch:     2 [12800/60000 (21%)]\tLoss: 0.199353\n",
            "Train Epoch:     2 [19200/60000 (32%)]\tLoss: 0.360071\n",
            "Train Epoch:     2 [25600/60000 (43%)]\tLoss: 0.243495\n",
            "Train Epoch:     2 [32000/60000 (53%)]\tLoss: 0.336755\n",
            "Train Epoch:     2 [38400/60000 (64%)]\tLoss: 0.258743\n",
            "Train Epoch:     2 [44800/60000 (75%)]\tLoss: 0.376564\n",
            "Train Epoch:     2 [51200/60000 (85%)]\tLoss: 0.208472\n",
            "Train Epoch:     2 [57600/60000 (96%)]\tLoss: 0.276280\n",
            "\n",
            "Test set: Avg. loss: 0.1372, Accuracy:  9580/10000 (95.80%)\n",
            "\n",
            "Train Epoch:     3 [    0/60000 ( 0%)]\tLoss: 0.218428\n",
            "Train Epoch:     3 [ 6400/60000 (11%)]\tLoss: 0.166056\n",
            "Train Epoch:     3 [12800/60000 (21%)]\tLoss: 0.195836\n",
            "Train Epoch:     3 [19200/60000 (32%)]\tLoss: 0.267644\n",
            "Train Epoch:     3 [25600/60000 (43%)]\tLoss: 0.387982\n",
            "Train Epoch:     3 [32000/60000 (53%)]\tLoss: 0.196625\n",
            "Train Epoch:     3 [38400/60000 (64%)]\tLoss: 0.138907\n",
            "Train Epoch:     3 [44800/60000 (75%)]\tLoss: 0.263632\n",
            "Train Epoch:     3 [51200/60000 (85%)]\tLoss: 0.197268\n",
            "Train Epoch:     3 [57600/60000 (96%)]\tLoss: 0.060056\n",
            "\n",
            "Test set: Avg. loss: 0.1019, Accuracy:  9683/10000 (96.83%)\n",
            "\n"
          ]
        }
      ],
      "source": [
        "network = DeepNarrowModel().to(device)\n",
        "optimizer = optim.SGD(network.parameters(), lr=learning_rate)\n",
        "\n",
        "train_losses, train_counter, test_losses, test_counter, test_accuracy = train_network(network, train_loader, test_loader, device)"
      ]
    },
    {
      "cell_type": "code",
      "execution_count": 109,
      "metadata": {},
      "outputs": [],
      "source": [
        "number_of_parameters = get_number_of_model_parameters(network)\n",
        "results[f'deep_and_narrow_{learning_rate}'] = (train_counter, train_losses, test_counter, test_losses, test_accuracy, number_of_parameters)"
      ]
    },
    {
      "cell_type": "code",
      "execution_count": 120,
      "metadata": {},
      "outputs": [
        {
          "name": "stdout",
          "output_type": "stream",
          "text": [
            "\n",
            "Test set: Avg. loss: 2.3177, Accuracy:   650/10000 (6.50%)\n",
            "\n",
            "Train Epoch:     1 [    0/60000 ( 0%)]\tLoss: 2.338281\n",
            "Train Epoch:     1 [ 6400/60000 (11%)]\tLoss: 1.194134\n",
            "Train Epoch:     1 [12800/60000 (21%)]\tLoss: 0.568698\n",
            "Train Epoch:     1 [19200/60000 (32%)]\tLoss: 0.715580\n",
            "Train Epoch:     1 [25600/60000 (43%)]\tLoss: 0.469126\n",
            "Train Epoch:     1 [32000/60000 (53%)]\tLoss: 0.473208\n",
            "Train Epoch:     1 [38400/60000 (64%)]\tLoss: 0.332358\n",
            "Train Epoch:     1 [44800/60000 (75%)]\tLoss: 0.305080\n",
            "Train Epoch:     1 [51200/60000 (85%)]\tLoss: 0.445282\n",
            "Train Epoch:     1 [57600/60000 (96%)]\tLoss: 0.456115\n",
            "\n",
            "Test set: Avg. loss: 0.2649, Accuracy:  9252/10000 (92.52%)\n",
            "\n",
            "Train Epoch:     2 [    0/60000 ( 0%)]\tLoss: 0.370650\n",
            "Train Epoch:     2 [ 6400/60000 (11%)]\tLoss: 0.549153\n",
            "Train Epoch:     2 [12800/60000 (21%)]\tLoss: 0.366184\n",
            "Train Epoch:     2 [19200/60000 (32%)]\tLoss: 0.264964\n",
            "Train Epoch:     2 [25600/60000 (43%)]\tLoss: 0.302437\n",
            "Train Epoch:     2 [32000/60000 (53%)]\tLoss: 0.290926\n",
            "Train Epoch:     2 [38400/60000 (64%)]\tLoss: 0.590840\n",
            "Train Epoch:     2 [44800/60000 (75%)]\tLoss: 0.357527\n",
            "Train Epoch:     2 [51200/60000 (85%)]\tLoss: 0.295053\n",
            "Train Epoch:     2 [57600/60000 (96%)]\tLoss: 0.306225\n",
            "\n",
            "Test set: Avg. loss: 0.1965, Accuracy:  9423/10000 (94.23%)\n",
            "\n",
            "Train Epoch:     3 [    0/60000 ( 0%)]\tLoss: 0.292172\n",
            "Train Epoch:     3 [ 6400/60000 (11%)]\tLoss: 0.181185\n",
            "Train Epoch:     3 [12800/60000 (21%)]\tLoss: 0.326246\n",
            "Train Epoch:     3 [19200/60000 (32%)]\tLoss: 0.304383\n",
            "Train Epoch:     3 [25600/60000 (43%)]\tLoss: 0.336718\n",
            "Train Epoch:     3 [32000/60000 (53%)]\tLoss: 0.385525\n",
            "Train Epoch:     3 [38400/60000 (64%)]\tLoss: 0.223491\n",
            "Train Epoch:     3 [44800/60000 (75%)]\tLoss: 0.326460\n",
            "Train Epoch:     3 [51200/60000 (85%)]\tLoss: 0.218129\n",
            "Train Epoch:     3 [57600/60000 (96%)]\tLoss: 0.248415\n",
            "\n",
            "Test set: Avg. loss: 0.1612, Accuracy:  9511/10000 (95.11%)\n",
            "\n"
          ]
        }
      ],
      "source": [
        "network = ShallowNarrowModel().to(device)\n",
        "optimizer = optim.SGD(network.parameters(), lr=learning_rate)\n",
        "\n",
        "train_losses, train_counter, test_losses, test_counter, test_accuracy = train_network(network, train_loader, test_loader, device)"
      ]
    },
    {
      "cell_type": "code",
      "execution_count": 121,
      "metadata": {},
      "outputs": [],
      "source": [
        "number_of_parameters = get_number_of_model_parameters(network)\n",
        "results[f'shallow_and_narrow_{learning_rate}'] = (train_counter, train_losses, test_counter, test_losses, test_accuracy, number_of_parameters)"
      ]
    },
    {
      "cell_type": "code",
      "execution_count": 122,
      "metadata": {},
      "outputs": [
        {
          "ename": "RuntimeError",
          "evalue": "mat1 and mat2 shapes cannot be multiplied (30720x12 and 40x64)",
          "output_type": "error",
          "traceback": [
            "\u001b[1;31m---------------------------------------------------------------------------\u001b[0m",
            "\u001b[1;31mRuntimeError\u001b[0m                              Traceback (most recent call last)",
            "Cell \u001b[1;32mIn[122], line 4\u001b[0m\n\u001b[0;32m      1\u001b[0m network \u001b[38;5;241m=\u001b[39m ShallowWideModel()\u001b[38;5;241m.\u001b[39mto(device)\n\u001b[0;32m      2\u001b[0m optimizer \u001b[38;5;241m=\u001b[39m optim\u001b[38;5;241m.\u001b[39mSGD(network\u001b[38;5;241m.\u001b[39mparameters(), lr\u001b[38;5;241m=\u001b[39mlearning_rate)\n\u001b[1;32m----> 4\u001b[0m train_losses, train_counter, test_losses, test_counter, test_accuracy \u001b[38;5;241m=\u001b[39m \u001b[43mtrain_network\u001b[49m\u001b[43m(\u001b[49m\u001b[43mnetwork\u001b[49m\u001b[43m,\u001b[49m\u001b[43m \u001b[49m\u001b[43mtrain_loader\u001b[49m\u001b[43m,\u001b[49m\u001b[43m \u001b[49m\u001b[43mtest_loader\u001b[49m\u001b[43m,\u001b[49m\u001b[43m \u001b[49m\u001b[43mdevice\u001b[49m\u001b[43m)\u001b[49m\n",
            "Cell \u001b[1;32mIn[21], line 7\u001b[0m, in \u001b[0;36mtrain_network\u001b[1;34m(network, train_loader, test_loader, device)\u001b[0m\n\u001b[0;32m      4\u001b[0m test_losses \u001b[38;5;241m=\u001b[39m []\n\u001b[0;32m      5\u001b[0m test_counter \u001b[38;5;241m=\u001b[39m [i\u001b[38;5;241m*\u001b[39m\u001b[38;5;28mlen\u001b[39m(train_loader\u001b[38;5;241m.\u001b[39mdataset) \u001b[38;5;28;01mfor\u001b[39;00m i \u001b[38;5;129;01min\u001b[39;00m \u001b[38;5;28mrange\u001b[39m(n_epochs \u001b[38;5;241m+\u001b[39m \u001b[38;5;241m1\u001b[39m)]\n\u001b[1;32m----> 7\u001b[0m test_loss, accuracy \u001b[38;5;241m=\u001b[39m \u001b[43mtest\u001b[49m\u001b[43m(\u001b[49m\u001b[43mnetwork\u001b[49m\u001b[43m,\u001b[49m\u001b[43mtest_loader\u001b[49m\u001b[43m,\u001b[49m\u001b[43mdevice\u001b[49m\u001b[43m)\u001b[49m\n\u001b[0;32m      8\u001b[0m test_losses\u001b[38;5;241m.\u001b[39mappend(test_loss)\n\u001b[0;32m     10\u001b[0m \u001b[38;5;28;01mfor\u001b[39;00m epoch \u001b[38;5;129;01min\u001b[39;00m \u001b[38;5;28mrange\u001b[39m(\u001b[38;5;241m1\u001b[39m, n_epochs \u001b[38;5;241m+\u001b[39m \u001b[38;5;241m1\u001b[39m):\n",
            "Cell \u001b[1;32mIn[20], line 11\u001b[0m, in \u001b[0;36mtest\u001b[1;34m(network, test_loader, device, verbose)\u001b[0m\n\u001b[0;32m      8\u001b[0m data \u001b[38;5;241m=\u001b[39m data\u001b[38;5;241m.\u001b[39mto(device)\n\u001b[0;32m      9\u001b[0m target \u001b[38;5;241m=\u001b[39m target\u001b[38;5;241m.\u001b[39mto(device)\n\u001b[1;32m---> 11\u001b[0m output \u001b[38;5;241m=\u001b[39m \u001b[43mnetwork\u001b[49m\u001b[43m(\u001b[49m\u001b[43mdata\u001b[49m\u001b[43m)\u001b[49m\n\u001b[0;32m     12\u001b[0m test_loss\u001b[38;5;241m+\u001b[39m\u001b[38;5;241m=\u001b[39m F\u001b[38;5;241m.\u001b[39mnll_loss(output,target, reduction\u001b[38;5;241m=\u001b[39m\u001b[38;5;124m'\u001b[39m\u001b[38;5;124msum\u001b[39m\u001b[38;5;124m'\u001b[39m)\u001b[38;5;241m.\u001b[39mitem()\n\u001b[0;32m     13\u001b[0m pred \u001b[38;5;241m=\u001b[39m output\u001b[38;5;241m.\u001b[39mdata\u001b[38;5;241m.\u001b[39mmax(\u001b[38;5;241m1\u001b[39m, keepdim\u001b[38;5;241m=\u001b[39m\u001b[38;5;28;01mTrue\u001b[39;00m)[\u001b[38;5;241m1\u001b[39m]\n",
            "File \u001b[1;32mc:\\Python311\\Lib\\site-packages\\torch\\nn\\modules\\module.py:1501\u001b[0m, in \u001b[0;36mModule._call_impl\u001b[1;34m(self, *args, **kwargs)\u001b[0m\n\u001b[0;32m   1496\u001b[0m \u001b[38;5;66;03m# If we don't have any hooks, we want to skip the rest of the logic in\u001b[39;00m\n\u001b[0;32m   1497\u001b[0m \u001b[38;5;66;03m# this function, and just call forward.\u001b[39;00m\n\u001b[0;32m   1498\u001b[0m \u001b[38;5;28;01mif\u001b[39;00m \u001b[38;5;129;01mnot\u001b[39;00m (\u001b[38;5;28mself\u001b[39m\u001b[38;5;241m.\u001b[39m_backward_hooks \u001b[38;5;129;01mor\u001b[39;00m \u001b[38;5;28mself\u001b[39m\u001b[38;5;241m.\u001b[39m_backward_pre_hooks \u001b[38;5;129;01mor\u001b[39;00m \u001b[38;5;28mself\u001b[39m\u001b[38;5;241m.\u001b[39m_forward_hooks \u001b[38;5;129;01mor\u001b[39;00m \u001b[38;5;28mself\u001b[39m\u001b[38;5;241m.\u001b[39m_forward_pre_hooks\n\u001b[0;32m   1499\u001b[0m         \u001b[38;5;129;01mor\u001b[39;00m _global_backward_pre_hooks \u001b[38;5;129;01mor\u001b[39;00m _global_backward_hooks\n\u001b[0;32m   1500\u001b[0m         \u001b[38;5;129;01mor\u001b[39;00m _global_forward_hooks \u001b[38;5;129;01mor\u001b[39;00m _global_forward_pre_hooks):\n\u001b[1;32m-> 1501\u001b[0m     \u001b[38;5;28;01mreturn\u001b[39;00m \u001b[43mforward_call\u001b[49m\u001b[43m(\u001b[49m\u001b[38;5;241;43m*\u001b[39;49m\u001b[43margs\u001b[49m\u001b[43m,\u001b[49m\u001b[43m \u001b[49m\u001b[38;5;241;43m*\u001b[39;49m\u001b[38;5;241;43m*\u001b[39;49m\u001b[43mkwargs\u001b[49m\u001b[43m)\u001b[49m\n\u001b[0;32m   1502\u001b[0m \u001b[38;5;66;03m# Do not call functions when jit is used\u001b[39;00m\n\u001b[0;32m   1503\u001b[0m full_backward_hooks, non_full_backward_hooks \u001b[38;5;241m=\u001b[39m [], []\n",
            "Cell \u001b[1;32mIn[85], line 13\u001b[0m, in \u001b[0;36mShallowWideModel.forward\u001b[1;34m(self, x)\u001b[0m\n\u001b[0;32m     11\u001b[0m x  \u001b[38;5;241m=\u001b[39m \u001b[38;5;28mself\u001b[39m\u001b[38;5;241m.\u001b[39mdrop(x)\n\u001b[0;32m     12\u001b[0m x \u001b[38;5;241m=\u001b[39m F\u001b[38;5;241m.\u001b[39mrelu(F\u001b[38;5;241m.\u001b[39mmax_pool2d(x, \u001b[38;5;241m2\u001b[39m))\n\u001b[1;32m---> 13\u001b[0m x \u001b[38;5;241m=\u001b[39m F\u001b[38;5;241m.\u001b[39mrelu(\u001b[38;5;28;43mself\u001b[39;49m\u001b[38;5;241;43m.\u001b[39;49m\u001b[43mfc1\u001b[49m\u001b[43m(\u001b[49m\u001b[43mx\u001b[49m\u001b[43m)\u001b[49m)\n\u001b[0;32m     14\u001b[0m x \u001b[38;5;241m=\u001b[39m \u001b[38;5;28mself\u001b[39m\u001b[38;5;241m.\u001b[39mfc2(x)\n\u001b[0;32m     15\u001b[0m \u001b[38;5;28;01mreturn\u001b[39;00m F\u001b[38;5;241m.\u001b[39mlog_softmax(x, dim\u001b[38;5;241m=\u001b[39m\u001b[38;5;241m1\u001b[39m)\n",
            "File \u001b[1;32mc:\\Python311\\Lib\\site-packages\\torch\\nn\\modules\\module.py:1501\u001b[0m, in \u001b[0;36mModule._call_impl\u001b[1;34m(self, *args, **kwargs)\u001b[0m\n\u001b[0;32m   1496\u001b[0m \u001b[38;5;66;03m# If we don't have any hooks, we want to skip the rest of the logic in\u001b[39;00m\n\u001b[0;32m   1497\u001b[0m \u001b[38;5;66;03m# this function, and just call forward.\u001b[39;00m\n\u001b[0;32m   1498\u001b[0m \u001b[38;5;28;01mif\u001b[39;00m \u001b[38;5;129;01mnot\u001b[39;00m (\u001b[38;5;28mself\u001b[39m\u001b[38;5;241m.\u001b[39m_backward_hooks \u001b[38;5;129;01mor\u001b[39;00m \u001b[38;5;28mself\u001b[39m\u001b[38;5;241m.\u001b[39m_backward_pre_hooks \u001b[38;5;129;01mor\u001b[39;00m \u001b[38;5;28mself\u001b[39m\u001b[38;5;241m.\u001b[39m_forward_hooks \u001b[38;5;129;01mor\u001b[39;00m \u001b[38;5;28mself\u001b[39m\u001b[38;5;241m.\u001b[39m_forward_pre_hooks\n\u001b[0;32m   1499\u001b[0m         \u001b[38;5;129;01mor\u001b[39;00m _global_backward_pre_hooks \u001b[38;5;129;01mor\u001b[39;00m _global_backward_hooks\n\u001b[0;32m   1500\u001b[0m         \u001b[38;5;129;01mor\u001b[39;00m _global_forward_hooks \u001b[38;5;129;01mor\u001b[39;00m _global_forward_pre_hooks):\n\u001b[1;32m-> 1501\u001b[0m     \u001b[38;5;28;01mreturn\u001b[39;00m \u001b[43mforward_call\u001b[49m\u001b[43m(\u001b[49m\u001b[38;5;241;43m*\u001b[39;49m\u001b[43margs\u001b[49m\u001b[43m,\u001b[49m\u001b[43m \u001b[49m\u001b[38;5;241;43m*\u001b[39;49m\u001b[38;5;241;43m*\u001b[39;49m\u001b[43mkwargs\u001b[49m\u001b[43m)\u001b[49m\n\u001b[0;32m   1502\u001b[0m \u001b[38;5;66;03m# Do not call functions when jit is used\u001b[39;00m\n\u001b[0;32m   1503\u001b[0m full_backward_hooks, non_full_backward_hooks \u001b[38;5;241m=\u001b[39m [], []\n",
            "File \u001b[1;32mc:\\Python311\\Lib\\site-packages\\torch\\nn\\modules\\linear.py:114\u001b[0m, in \u001b[0;36mLinear.forward\u001b[1;34m(self, input)\u001b[0m\n\u001b[0;32m    113\u001b[0m \u001b[38;5;28;01mdef\u001b[39;00m \u001b[38;5;21mforward\u001b[39m(\u001b[38;5;28mself\u001b[39m, \u001b[38;5;28minput\u001b[39m: Tensor) \u001b[38;5;241m-\u001b[39m\u001b[38;5;241m>\u001b[39m Tensor:\n\u001b[1;32m--> 114\u001b[0m     \u001b[38;5;28;01mreturn\u001b[39;00m \u001b[43mF\u001b[49m\u001b[38;5;241;43m.\u001b[39;49m\u001b[43mlinear\u001b[49m\u001b[43m(\u001b[49m\u001b[38;5;28;43minput\u001b[39;49m\u001b[43m,\u001b[49m\u001b[43m \u001b[49m\u001b[38;5;28;43mself\u001b[39;49m\u001b[38;5;241;43m.\u001b[39;49m\u001b[43mweight\u001b[49m\u001b[43m,\u001b[49m\u001b[43m \u001b[49m\u001b[38;5;28;43mself\u001b[39;49m\u001b[38;5;241;43m.\u001b[39;49m\u001b[43mbias\u001b[49m\u001b[43m)\u001b[49m\n",
            "\u001b[1;31mRuntimeError\u001b[0m: mat1 and mat2 shapes cannot be multiplied (30720x12 and 40x64)"
          ]
        }
      ],
      "source": [
        "network = ShallowWideModel().to(device)\n",
        "optimizer = optim.SGD(network.parameters(), lr=learning_rate)\n",
        "\n",
        "train_losses, train_counter, test_losses, test_counter, test_accuracy = train_network(network, train_loader, test_loader, device)"
      ]
    },
    {
      "cell_type": "code",
      "execution_count": null,
      "metadata": {},
      "outputs": [],
      "source": [
        "number_of_parameters = get_number_of_model_parameters(network)\n",
        "results[f'shallow_and_wide_{learning_rate}'] = (train_counter, train_losses, test_counter, test_losses, test_accuracy, number_of_parameters)"
      ]
    },
    {
      "cell_type": "code",
      "execution_count": 56,
      "metadata": {},
      "outputs": [],
      "source": [
        "import os\n",
        "import csv\n",
        "\n",
        "def append_results_to_csv(results, file_path):\n",
        "    headers = ['model_key', 'train_counter', 'train_losses', 'test_counter', 'test_losses', 'test_accuracy', 'number_of_parameters']\n",
        "\n",
        "    file_exists = os.path.isfile(file_path)\n",
        "\n",
        "    with open(file_path, 'a', newline='') as csvfile:\n",
        "        writer = csv.writer(csvfile)\n",
        "        \n",
        "        if not file_exists:\n",
        "            writer.writerow(headers)\n",
        "\n",
        "        for key, value in results.items():\n",
        "            row = [key] + list(value)\n",
        "            writer.writerow(row)"
      ]
    },
    {
      "cell_type": "code",
      "execution_count": 64,
      "metadata": {},
      "outputs": [],
      "source": [
        "append_results_to_csv(results, 'results.csv')"
      ]
    },
    {
      "cell_type": "markdown",
      "metadata": {
        "id": "u6vxWgvv8mBV"
      },
      "source": [
        "Prikažimo rezultate za ovaj eksperiment:"
      ]
    },
    {
      "cell_type": "code",
      "execution_count": null,
      "metadata": {
        "id": "Y2JnHIGG8mBV"
      },
      "outputs": [],
      "source": [
        "fig = plt.figure(figsize=(16, 5))\n",
        "plt.plot(train_counter, train_losses, color='blue', label='Train loss')\n",
        "plt.plot(test_counter, test_losses, color='red',  marker='o', label='Test loss')\n",
        "plt.vlines(test_counter, 0, max(train_losses + test_losses), linestyles='dashed', label='Epoch markers')\n",
        "\n",
        "plt.legend(loc='upper right')\n",
        "plt.xlabel('Number of samples')\n",
        "plt.ylabel('Loss')\n",
        "plt.grid()"
      ]
    },
    {
      "cell_type": "markdown",
      "metadata": {
        "id": "9Y3TO-eh8mBV"
      },
      "source": [
        "**Nadopunite bilježnicu sa svim traženim arhitekturama i learning rateovima zadanim u ovom podzadatku.**"
      ]
    },
    {
      "cell_type": "markdown",
      "metadata": {
        "id": "0N73eaQq8mBV"
      },
      "source": [
        "#### Podzadatak g) - Usporedba rezultata\n",
        "\n",
        "Nakon što smo izvršili sve eksperimente potrebno ih je usporediti. Nacrtajte tražene grafove, te pomoću njih odgovorite na pitanja postavljena na Moodleu."
      ]
    },
    {
      "cell_type": "markdown",
      "metadata": {
        "id": "0IWnMHAI8mBV"
      },
      "source": [
        "Nacrtajte graf gdje je X os vrijeme (odgovara na pitanje: koji korak treniranja?), a Y os je loss za **trening** skup podataka."
      ]
    },
    {
      "cell_type": "markdown",
      "metadata": {
        "id": "gfEpetAm8mBW"
      },
      "source": [
        "Odgovorite na sljedeća pitanja:\n",
        "1. Radi li se o konzistentnom padu iz koraka u korak?\n",
        "2. Jesu li neke arhitekture u startu značajno bolje od drugih?\n",
        "3. Koji model je najnestabilniji tijekom treniranja?"
      ]
    },
    {
      "cell_type": "code",
      "execution_count": null,
      "metadata": {
        "id": "OyiTfnal8mBW"
      },
      "outputs": [],
      "source": [
        "plt.figure(figsize=(19, 6))\n",
        "\n",
        "for model_key in results:\n",
        "    train_counter, train_losses, test_counter, test_losses, test_accuracy, number_of_parameters = results[model_key]\n",
        "    plt.plot(train_counter, train_losses, label=model_key)\n",
        "\n",
        "plt.legend()\n",
        "plt.grid()\n",
        "plt.ylabel(\"Train loss\")\n",
        "plt.xlabel(\"Steps\")"
      ]
    },
    {
      "cell_type": "markdown",
      "metadata": {
        "id": "sjQvS9h18mBX"
      },
      "source": [
        "Nacrtajte graf gdje je X os vrijeme (odgovara na pitanje: koji korak treniranja?), a Y os je loss za **test** skupu podataka."
      ]
    },
    {
      "cell_type": "markdown",
      "metadata": {
        "id": "V1giPvlo8mBX"
      },
      "source": [
        "Odgovorite na sljedeća pitanja:\n",
        "4. Radi li se o konzistentnom padu iz koraka u korak?\n",
        "5. Jesu li neke arhitekture u startu značajno bolje od drugih?"
      ]
    },
    {
      "cell_type": "code",
      "execution_count": null,
      "metadata": {
        "id": "P4Uf1TiF8mBX"
      },
      "outputs": [],
      "source": [
        "plt.figure(figsize=(19, 6))\n",
        "\n",
        "for model_key in results:\n",
        "    train_counter, train_losses, test_counter, test_losses, test_accuracy, number_of_parameters = results[model_key]\n",
        "    plt.plot(test_counter, test_losses, label=model_key)\n",
        "\n",
        "plt.legend()\n",
        "plt.grid()\n",
        "plt.xlabel(\"Test accuracy\")\n",
        "plt.ylabel(\"Steps\")"
      ]
    },
    {
      "cell_type": "markdown",
      "metadata": {
        "id": "rtLhEzai8mBY"
      },
      "source": [
        "Nacrtajte graf (scatter plot) gdje je X os broj parametara modela, a Y os je točnost koju model ostvaruje na test skupu."
      ]
    },
    {
      "cell_type": "markdown",
      "metadata": {
        "id": "chMbNJjk8mBY"
      },
      "source": [
        "Odgovorite na sljedeća pitanja:\n",
        "6. Koji je najbolji model?\n",
        "7. Kakvi su duboki modeli u usporedbu s plitkim modelima?\n",
        "8. Kakvi su široki modeli u usporedbi s uskima?"
      ]
    },
    {
      "cell_type": "code",
      "execution_count": null,
      "metadata": {
        "id": "9bPtKsdn8mBY"
      },
      "outputs": [],
      "source": [
        "plt.figure(figsize=(9, 9))\n",
        "\n",
        "for model_key in results:\n",
        "    train_counter, train_losses, test_counter, test_losses, test_accuracy, number_of_parameters = results[model_key]\n",
        "    plt.scatter(number_of_parameters, test_accuracy, label=model_key, s=256)\n",
        "\n",
        "plt.legend()\n",
        "plt.grid()\n",
        "plt.ylabel(\"Test accuracy\")\n",
        "plt.xlabel(\"Number of parameters\")"
      ]
    },
    {
      "cell_type": "markdown",
      "metadata": {
        "id": "anR2jStp8mBY"
      },
      "source": [
        "#### Podzadatak h) - Evaluacija na neviđenom skupu podataka\n",
        "\n",
        "Preuzmite skup podataka za ocjenjivanje sa sljedeće poveznice: https://drive.google.com/drive/folders/1baSno2jQSlyCPhk_liDlVvgXrIM5ojBB  \n",
        "-> **submission_z1.zip**\n",
        "\n",
        "Primjer filea kojeg treba generirati možete preuzeti sa: https://drive.google.com/drive/folders/1baSno2jQSlyCPhk_liDlVvgXrIM5ojBB\n",
        "\n",
        "-> **zad1_submission_sample.csv**\n",
        "\n",
        "Odredite predikcije Vašeg najboljeg modela nad tim skupom, te ih stavite na Moodle."
      ]
    },
    {
      "cell_type": "markdown",
      "metadata": {
        "id": "8Jp0xFqZjs2K"
      },
      "source": [
        "Prije pokretanja iduće ćelije svakako prenesite zip datoteku u radno okruženje."
      ]
    },
    {
      "cell_type": "code",
      "execution_count": null,
      "metadata": {
        "id": "vDWX8zjyjcbn"
      },
      "outputs": [],
      "source": [
        "import zipfile\n",
        "import os\n",
        "import csv\n",
        "\n",
        "with zipfile.ZipFile('submission_z1.zip', 'r') as zip_ref:\n",
        "    zip_ref.extractall('data')\n",
        "\n",
        "model = network\n",
        "model = model.to(device)\n",
        "model.eval()\n",
        "\n",
        "transform = torchvision.transforms.Compose([\n",
        "                                torchvision.transforms.ToTensor(),\n",
        "                                torchvision.transforms.Grayscale(num_output_channels=1),\n",
        "                                torchvision.transforms.Normalize((0.1307,), (0.3081,))]\n",
        "                               )\n",
        "\n",
        "dataset = torchvision.datasets.ImageFolder('data', transform=transform)\n",
        "dataloader = DataLoader(dataset, batch_size=1, shuffle=False)\n",
        "\n",
        "results = []\n",
        "\n",
        "for ind, (images, _) in enumerate(dataloader):\n",
        "    images = images.to(device)\n",
        "    outputs = model(images)\n",
        "    _, predicted = torch.max(outputs, 1)\n",
        "\n",
        "    image_name = dataset.imgs[ind][0].split('/')[-1]  # Extract image name\n",
        "    results.append((image_name, predicted.item()))\n",
        "\n",
        "sorted_results = sorted(results, key=lambda x: int(x[0].split('_')[1][:-4]))\n",
        "\n",
        "with open('submission_z1.csv', 'w', newline='') as file:\n",
        "    writer = csv.writer(file)\n",
        "    writer.writerow(['image_name', 'true_label'])\n",
        "    writer.writerows(sorted_results)"
      ]
    },
    {
      "cell_type": "markdown",
      "metadata": {
        "id": "rxTgKs3R8mBY"
      },
      "source": [
        "## Zadatak 2 - Pronalazak znamenki na slici i klasifikacija pronađene znamenke"
      ]
    },
    {
      "cell_type": "markdown",
      "metadata": {
        "id": "P4bKWIm78mBZ"
      },
      "source": [
        "Drugi zadatak je proširenje naučenog u prvom zadatku. Problem se proširuje - umjesto klasifikacije rukom pisane znamenke, naš problem je sada pronalazak rukom pisane znamenke na slici **i** klasifikacija.\n",
        "\n",
        "Kao i u prethodnoj vježbi, dani su dijelovi koda potrebnog za ostvarenje vježbe, a na Vama je da nadopunite dijelove koji nedostaju."
      ]
    },
    {
      "cell_type": "markdown",
      "metadata": {
        "id": "HwZHyOWk8mBZ"
      },
      "source": [
        "#### Skup podataka\n",
        "\n",
        "Da bi mogli trenirati model za klasifikaciju i detekciju objekta na slici, moramo imati odgovarajući dataset. Koristimo postojeći MNIST dataset, a modificiramo ga tako da postavimo originalni MNIST uzorak na slučajnu poziciju na praznoj slici. Sljedeći kod generira takve uzorke, vraćajući modificiranu sliku, oznaku kategorije i poziciju znamenke na slici (*bounding box*)."
      ]
    },
    {
      "cell_type": "code",
      "execution_count": null,
      "metadata": {
        "id": "1Xqwk5ze8mBZ"
      },
      "outputs": [],
      "source": [
        "class PositionMNIST(Dataset):\n",
        "\n",
        "    def __init__(self, image_size=128, transform=None, train_set=False):\n",
        "        self.image_size = image_size\n",
        "        self.transform = transform\n",
        "\n",
        "        self.set = torchvision.datasets.MNIST('./files/', train=train_set, download=True)\n",
        "        self.position_cache = [-1] * len(self.set)\n",
        "\n",
        "    def __len__(self):\n",
        "        return len(self.set)\n",
        "\n",
        "    def __getitem__(self, idx):\n",
        "        if self.position_cache[idx] == -1:\n",
        "            x_pos = int(np.random.uniform(0, self.image_size-29))\n",
        "            y_pos = int(np.random.uniform(0, self.image_size-29))\n",
        "            self.position_cache[idx] = (x_pos, y_pos)\n",
        "\n",
        "        x_pos, y_pos = self.position_cache[idx]\n",
        "\n",
        "        canvas = np.zeros((self.image_size, self.image_size, 1), dtype=np.uint8)\n",
        "        canvas[y_pos:(y_pos+28), x_pos:(x_pos+28), 0] = self.set[idx][0]\n",
        "\n",
        "        x_pos = float(x_pos)\n",
        "        y_pos = float(y_pos)\n",
        "\n",
        "        if self.transform is not None:\n",
        "            canvas = self.transform(canvas)\n",
        "\n",
        "        return canvas, self.set[idx][1], (x_pos, y_pos, x_pos+28, y_pos+28)"
      ]
    },
    {
      "cell_type": "code",
      "execution_count": null,
      "metadata": {
        "id": "dQutnfaT8mBa"
      },
      "outputs": [],
      "source": [
        "batch_size_train = 128\n",
        "batch_size_test = 128\n",
        "image_size = 128\n",
        "\n",
        "train_set = PositionMNIST(train_set=True, image_size=image_size, transform=torchvision.transforms.Compose([torchvision.transforms.ToTensor(),\n",
        "                                                                                    torchvision.transforms.Normalize((0.1307,), (0.3081,))]))\n",
        "\n",
        "test_set = PositionMNIST(train_set=False, image_size=image_size, transform=torchvision.transforms.Compose([torchvision.transforms.ToTensor(),\n",
        "                                                                                    torchvision.transforms.Normalize((0.1307,), (0.3081,))]))"
      ]
    },
    {
      "cell_type": "code",
      "execution_count": null,
      "metadata": {
        "id": "4kW-io_C8mBa"
      },
      "outputs": [],
      "source": [
        "train_loader = DataLoader(train_set, batch_size=batch_size_train, shuffle=True)\n",
        "test_loader = DataLoader(test_set, batch_size=batch_size_test, shuffle=True)"
      ]
    },
    {
      "cell_type": "markdown",
      "metadata": {
        "id": "izLrwVgL8mBb"
      },
      "source": [
        "#### Podzadatak a) - Vizualizacija podataka\n",
        "\n",
        "Uzmite jedan uzorak pomoću data loadera i vizualizirajte ga. Neka u titleu piše klasa i lokacija."
      ]
    },
    {
      "cell_type": "code",
      "execution_count": null,
      "metadata": {
        "id": "Q8Z3aDgM8mBb"
      },
      "outputs": [],
      "source": [
        "examples = enumerate(test_loader)\n",
        "batch_idx, (example_data, example_label, example_positions) = next(examples)\n",
        "fig = plt.figure(figsize=(9, 4))\n",
        "for i in range(6):\n",
        "    plt.subplot(2,3,i+1)\n",
        "    plt.tight_layout()\n",
        "    # -----\n",
        "\n",
        "    # -----\n",
        "    plt.xticks([])\n",
        "    plt.yticks([])\n"
      ]
    },
    {
      "cell_type": "markdown",
      "metadata": {
        "id": "9KcHmrq78mBb"
      },
      "source": [
        "#### Podzadatak b) - Pomoćne funkcije za treniranje\n",
        "\n",
        "Nadopunite pomoćne funkcije za treniranje neuronskih mreža po principu naučenom u 1. zadatku. Temeljna razlika između pomoćne funkcije iz prethodnog zadatke i pomoćne funkcije u ovom zadatku je:\n",
        "\n",
        "1. Rukovanje s podacima (ovdje ih ima više)\n",
        "2. Drugi problem rješavamo, stoga trebamo drugačiju loss funkciju.\n",
        "\n",
        "Loss funkcija će se u ovom slučaju sastojati od dva dijela - loss za klasifikaciju s kojim smo se već upoznali, i prosječan kvadrat greške (*mean squared error*) za određivanje pozicije. Loss će se računa kao:\n",
        "\n",
        "$ \\mathcal{L} = \\text{NLLLoss}(\\text{classification output}, \\text{target)} + \\frac{(x_1 - \\hat{x}_1)^2 + (y_1 - \\hat{y}_1)^2 + (x_2 - \\hat{x}_2)^2 + (y_2 - \\hat{y}_2)^2}{128 \\cdot 128}  $\n",
        "\n",
        "Pri čemu su $x$ i $y$ točne pozicije objekta na slici, a $\\hat{x}$ i $\\hat{y}$ su modelom određene pozicije objekta.\n"
      ]
    },
    {
      "cell_type": "code",
      "execution_count": null,
      "metadata": {
        "id": "8WUQaQaI8mBb"
      },
      "outputs": [],
      "source": [
        "def train_step(train_loader, epoch, device, verbose=True):\n",
        "    train_losses = []\n",
        "    train_counter = []\n",
        "\n",
        "    network.train()\n",
        "\n",
        "    for batch_idx, (data, target, position) in enumerate(train_loader):\n",
        "        data = data.to(device)\n",
        "        target = target.to(device)\n",
        "\n",
        "        # -----\n",
        "\n",
        "        # -------\n",
        "\n",
        "        if batch_idx % log_interval == 0:\n",
        "            if verbose:\n",
        "                print('Train Epoch: {:5d} [{:5d}/{:5d} ({:2.0f}%)]\\tLoss: {:.6f}'.format(\n",
        "                    epoch,\n",
        "                    batch_idx * len(data),\n",
        "                    len(train_loader.dataset),\n",
        "                    100. * batch_idx / len(train_loader),\n",
        "                    loss.item()))\n",
        "\n",
        "            train_losses.append(loss.item())\n",
        "            train_counter.append((batch_idx*64) + ((epoch-1)*len(train_loader.dataset)))\n",
        "\n",
        "    return train_losses, train_counter"
      ]
    },
    {
      "cell_type": "markdown",
      "metadata": {
        "id": "3MF8Pn8l8mBc"
      },
      "source": [
        "Po istom principu iz 1. zadatka nadopunite funkciju za evaluaciju modela. U ovom slučaju mjerimo 3 stvari: sam loss, točnost klasifikacije i posebno loss za detekciju."
      ]
    },
    {
      "cell_type": "code",
      "execution_count": null,
      "metadata": {
        "id": "BYjqEjj78mBc"
      },
      "outputs": [],
      "source": [
        "def test(test_loader, device, verbose=True):\n",
        "    network.eval()\n",
        "\n",
        "    test_loss_clsf = 0\n",
        "    test_loss_bbox = 0\n",
        "    correct = 0\n",
        "    with torch.no_grad():\n",
        "        for data, target, position in test_loader:\n",
        "            data = data.to(device)\n",
        "            target = target.to(device)\n",
        "\n",
        "            # ----\n",
        "\n",
        "            # ----------\n",
        "\n",
        "    test_loss_clsf /= len(test_loader.dataset)\n",
        "    test_loss_bbox /= len(test_loader.dataset)\n",
        "    test_accuracy = 100. * correct / len(test_loader.dataset)\n",
        "\n",
        "\n",
        "    if verbose:\n",
        "        print('\\n[Test] Classification: Avg. loss: {:.4f}, Accuracy: {:5d}/{:5d} ({:2.2f}%) | Object detection: Avg. loss: {:.4f}\\n'.format(\n",
        "            test_loss_clsf,\n",
        "            correct,\n",
        "            len(test_loader.dataset),\n",
        "            100. * correct / len(test_loader.dataset),\n",
        "            test_loss_bbox))\n",
        "\n",
        "    return test_loss_clsf, test_accuracy, correct, test_loss_bbox"
      ]
    },
    {
      "cell_type": "markdown",
      "metadata": {
        "id": "Chd5JfTj8mBc"
      },
      "source": [
        "Pomoćna funkcija za provođene eksperimenata iz prethodnog zadatka je iskoristiva do na praćenje dodatnih metrika. Proširite tu funkciju za ovaj zadatak."
      ]
    },
    {
      "cell_type": "code",
      "execution_count": null,
      "metadata": {
        "id": "ffmaJJ6-8mBc"
      },
      "outputs": [],
      "source": [
        "def train_network(network, train_loader, test_loader, device='cpu'):\n",
        "    train_losses = []\n",
        "    train_counter = []\n",
        "    test_losses_clsf = []\n",
        "    test_accuracies = []\n",
        "    test_losses_bbox = []\n",
        "    test_counter = [i*len(train_loader.dataset) for i in range(n_epochs + 1)]\n",
        "\n",
        "    # -----\n",
        "\n",
        "    # ----------\n",
        "\n",
        "    for epoch in range(1, n_epochs + 1):\n",
        "        # ---------\n",
        "\n",
        "        # ---------\n",
        "\n",
        "    # ---------\n",
        "    test_losses_total =\n",
        "    # -----------\n",
        "\n",
        "    return train_losses, train_counter, test_losses_clsf, test_accuracies, test_losses_bbox, test_counter"
      ]
    },
    {
      "cell_type": "markdown",
      "metadata": {
        "id": "752yh1Zy8mBc"
      },
      "source": [
        "## Provođenje eksperimenata i analiza rezultata"
      ]
    },
    {
      "cell_type": "markdown",
      "metadata": {
        "id": "SZeBa8sM8mBd"
      },
      "source": [
        "#### Podzadatak c) - Izrada modela koji točno klasificira i locira objekt na slici"
      ]
    },
    {
      "cell_type": "code",
      "execution_count": null,
      "metadata": {
        "id": "MBIdYjC_8mBd"
      },
      "outputs": [],
      "source": [
        "Kao i u prethodnom zadatku, prvo je potrebno podesiti parametre. Parametri su isti, no ponovimo:\n",
        "* n_epochs - broj epoha eksperimenta\n",
        "* learning_rate - stopa učenja\n",
        "* log_interval - broj koraka između dva ispisa tijekom treniranja (ispis se dešava samo ako se funkcija poziva s argumentom verbose=True)\n",
        "* device - oznaka na kojem se uređaju izvršava eksperiment; \"cuda\" za GPU, \"cpu\" za CPU"
      ]
    },
    {
      "cell_type": "code",
      "execution_count": null,
      "metadata": {
        "id": "PHx75b4o8mBe"
      },
      "outputs": [],
      "source": [
        "n_epochs = 3\n",
        "learning_rate = 0.0005\n",
        "momentum = 0.9\n",
        "log_interval = 100\n",
        "device = 'cuda'"
      ]
    },
    {
      "cell_type": "markdown",
      "metadata": {
        "id": "qUCpikHW8mBe"
      },
      "source": [
        "Temeljna razlika u arhitekturi modela ovog zadatka i arhitekture modela iz prethodnog zadatka je broj izlaza. Prošla neuronska mreža je imala 10 izlaznih neurona - svaki za jednu klasu. Ova neuronska mreža ima 14 izlaza - 10 za svaku klasu za klasifikacijski problem i 4 za svaku koordinatu rezultirajućeg bounding boxa objekta.\n",
        "\n",
        "Na temelju iskustva iz 1. zadatka, nadopunite sljedeći model da bi riješili problem:"
      ]
    },
    {
      "cell_type": "code",
      "execution_count": null,
      "metadata": {
        "id": "U1UHYk5I8mBe"
      },
      "outputs": [],
      "source": [
        "class Net(nn.Module):\n",
        "    def __init__(self, image_size):\n",
        "        super(Net, self).__init__()\n",
        "        self.image_size = image_size\n",
        "\n",
        "        # --------\n",
        "        # Ovdje je dan primjer jednog ulaznog conv sloja i oblika izlaznih slojeva za orijentaciju\n",
        "\n",
        "        self.conv1 = nn.Conv2d(1, 64, kernel_size=3)\n",
        "\n",
        "        self.obj_x1_out = nn.Linear(1, 1)\n",
        "        self.obj_y1_out = nn.Linear(1, 1)\n",
        "        self.obj_x2_out = nn.Linear(1, 1)\n",
        "        self.obj_y2_out = nn.Linear(1, 1)\n",
        "        # --------\n",
        "\n",
        "    def forward(self, x):\n",
        "        # ---- ovdje nadopunite ostatak mreže\n",
        "\n",
        "\n",
        "        # -------- izlaz za klasifikaciju\n",
        "        clsf = F.log_softmax(x, dim=1)\n",
        "\n",
        "        # -------- izlaz za detekciju\n",
        "        x1 = F.relu(self.obj_x1_out(x1))\n",
        "        y1 = F.relu(self.obj_y1_out(y1))\n",
        "        x2 = F.relu(self.obj_x2_out(x2))\n",
        "        y2 = F.relu(self.obj_y2_out(y2))\n",
        "\n",
        "        return clsf, x1.squeeze(), y1.squeeze(), x2.squeeze(), y2.squeeze()"
      ]
    },
    {
      "cell_type": "code",
      "execution_count": null,
      "metadata": {
        "id": "iTj1SQ0l8mBg"
      },
      "outputs": [],
      "source": [
        "network = Net(image_size).to(device)\n",
        "optimizer = optim.Adam(network.parameters(), lr=learning_rate)"
      ]
    },
    {
      "cell_type": "code",
      "execution_count": null,
      "metadata": {
        "id": "WBPkKzf08mBg"
      },
      "outputs": [],
      "source": [
        "number_of_params = get_number_of_model_parameters(network)\n",
        "print(\"Broj parametara u modelu:\", number_of_params)"
      ]
    },
    {
      "cell_type": "code",
      "execution_count": null,
      "metadata": {
        "id": "zHadg7188mBg"
      },
      "outputs": [],
      "source": [
        "train_losses, train_counter, test_losses_clsf, test_accuracies, test_losses_bbox,  test_counter = train_network(network, train_loader, test_loader, device)"
      ]
    },
    {
      "cell_type": "markdown",
      "metadata": {
        "id": "ty08zU4j8mBg"
      },
      "source": [
        "**Vizualizacija metrika uspješnosti**"
      ]
    },
    {
      "cell_type": "markdown",
      "metadata": {
        "id": "EfAB-KQ58mBg"
      },
      "source": [
        "Vizualizirajte si sve metrike na sljedećem grafu: train_losses, test_losses_total, test_losses_clsf i test_losses_bbox. Pripazite što vam je na x osi!"
      ]
    },
    {
      "cell_type": "code",
      "execution_count": null,
      "metadata": {
        "id": "amyVEs9X8mBg"
      },
      "outputs": [],
      "source": [
        "test_losses_total = np.array(test_losses_clsf) + np.array(test_losses_bbox)\n",
        "\n",
        "fig = plt.figure(figsize=(32, 7))\n",
        "# ----\n",
        "\n",
        "# ----------\n",
        "\n",
        "plt.legend(loc='upper right')\n",
        "plt.xlabel('Number of samples')\n",
        "plt.ylabel('Loss')\n",
        "plt.grid()"
      ]
    },
    {
      "cell_type": "markdown",
      "metadata": {
        "id": "DZz1rci68mBg"
      },
      "source": [
        "#### Vizualni pregled - što model estimira?"
      ]
    },
    {
      "cell_type": "markdown",
      "metadata": {
        "id": "5A5BzuzF8mBh"
      },
      "source": [
        "Iskorisite sljedeći kod da bi vidjeli kako izgledaju predikcije Vašeg modela."
      ]
    },
    {
      "cell_type": "code",
      "execution_count": null,
      "metadata": {
        "id": "Z56nnWF58mBh"
      },
      "outputs": [],
      "source": [
        "with torch.no_grad():\n",
        "    clsf_out, x1_out, y1_out, x2_out, y2_out = network(example_data.to(device))\n",
        "\n",
        "plt.figure(figsize=(32, 32))\n",
        "for idx in range(0, example_data.shape[0]):\n",
        "    image = np.array(example_data[idx, 0, ...]).copy()\n",
        "\n",
        "    x1, y1, x2, y2 = list(map(lambda x: int(x.item()), [x1_out[idx, ...], y1_out[idx, ...], x2_out[idx, ...], y2_out[idx, ...]]))\n",
        "    image = cv2.rectangle(image, (x1, y1), (x2, y2), (2.5), 2)\n",
        "\n",
        "    plt.subplot(12, 12, idx+1)\n",
        "    plt.imshow(image)\n",
        "    plt.title(np.argmax(clsf_out[idx, ...].cpu()))\n",
        "    plt.xticks([])\n",
        "    plt.yticks([])"
      ]
    },
    {
      "cell_type": "markdown",
      "metadata": {
        "id": "EevkWCQb8mBh"
      },
      "source": [
        "#### Podzadatak d) - Evaluacija na neviđenom skupu podataka\n",
        "\n",
        "Preuzmite skup podataka za ocjenjivanje sa sljedeće poveznice: https://drive.google.com/drive/folders/1baSno2jQSlyCPhk_liDlVvgXrIM5ojBB?usp=sharing -> **submission_z2.zip**\n",
        "\n",
        "Primjer filea kojeg treba generirati možete preuzeti sa: https://drive.google.com/drive/folders/1baSno2jQSlyCPhk_liDlVvgXrIM5ojBB?usp=sharing -> **zad2_submission_sample.csv**\n",
        "\n",
        "Odredite predikcije Vašeg najboljeg modela nad tim skupom, te ih stavite na Moodle."
      ]
    },
    {
      "cell_type": "code",
      "execution_count": null,
      "metadata": {
        "id": "cuACCjBDqj14"
      },
      "outputs": [],
      "source": [
        "import zipfile\n",
        "import os\n",
        "import csv\n",
        "\n",
        "with zipfile.ZipFile('submission_z2.zip', 'r') as zip_ref:\n",
        "    zip_ref.extractall('data')\n",
        "\n",
        "model = network\n",
        "model = model.to(device)\n",
        "model.eval()\n",
        "\n",
        "transform = torchvision.transforms.Compose([\n",
        "                                torchvision.transforms.Resize((128,128)),\n",
        "                                torchvision.transforms.ToTensor(),\n",
        "                                torchvision.transforms.Grayscale(num_output_channels=1),\n",
        "                                torchvision.transforms.Normalize((0.1307,), (0.3081,))]\n",
        "                               )\n",
        "\n",
        "dataset = torchvision.datasets.ImageFolder('data', transform=transform)\n",
        "dataloader = DataLoader(dataset, batch_size=1, shuffle=False)\n",
        "\n",
        "results = []\n",
        "\n",
        "for ind, (images, _) in enumerate(dataloader):\n",
        "    images = images.to(device)\n",
        "\n",
        "    clsf, x1, y1, x2, y2 = model(images)\n",
        "    _, predicted_digit = torch.max(clsf, 1)\n",
        "\n",
        "    image_name = dataset.imgs[ind][0].split('/')[-1]  # Extract image name\n",
        "    results.append((image_name, predicted_digit.item(), x1.item(), y1.item(), x2.item(), y2.item()))\n",
        "\n",
        "sorted_results = sorted(results, key=lambda x: int(x[0].split('_')[1][:-4]))\n",
        "\n",
        "with open('submission_z2.csv', 'w', newline='') as file:\n",
        "    writer = csv.writer(file)\n",
        "    writer.writerow(['image_name', 'true_label', 'x1', 'y1', 'x2', 'y2'])\n",
        "    writer.writerows(sorted_results)"
      ]
    }
  ],
  "metadata": {
    "accelerator": "GPU",
    "colab": {
      "gpuType": "T4",
      "provenance": []
    },
    "kernelspec": {
      "display_name": "Python 3",
      "name": "python3"
    },
    "language_info": {
      "codemirror_mode": {
        "name": "ipython",
        "version": 3
      },
      "file_extension": ".py",
      "mimetype": "text/x-python",
      "name": "python",
      "nbconvert_exporter": "python",
      "pygments_lexer": "ipython3",
      "version": "3.11.5"
    }
  },
  "nbformat": 4,
  "nbformat_minor": 0
}
